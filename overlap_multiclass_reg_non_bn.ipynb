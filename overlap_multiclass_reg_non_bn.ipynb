{
 "cells": [
  {
   "cell_type": "markdown",
   "metadata": {},
   "source": [
    "### Import Libraries"
   ]
  },
  {
   "cell_type": "code",
   "execution_count": null,
   "metadata": {},
   "outputs": [
    {
     "ename": "",
     "evalue": "",
     "output_type": "error",
     "traceback": [
      "\u001b[1;31m内核已终止。错误: /root/miniconda3/bin/python: No module named ipykernel_launcher...有关更多详细信息，请查看 Jupyter <a href='command:jupyter.viewOutput'>log</a>。"
     ]
    }
   ],
   "source": [
    "import numpy as np\n",
    "import random\n",
    "from keras.models import Sequential\n",
    "from keras.layers import Dense, Dropout, Flatten\n",
    "from keras.layers import Conv2D, MaxPooling2D\n",
    "from keras.utils import np_utils\n",
    "from keras.layers.normalization import BatchNormalization\n",
    "from keras.callbacks import TensorBoard,ModelCheckpoint\n",
    "from keras import backend as K\n",
    "from keras.metrics import top_k_categorical_accuracy\n",
    "import os\n",
    "print(\"hello\")"
   ]
  },
  {
   "cell_type": "code",
   "execution_count": null,
   "metadata": {},
   "outputs": [
    {
     "ename": "",
     "evalue": "",
     "output_type": "error",
     "traceback": [
      "\u001b[1;31m内核已终止。错误: /root/miniconda3/bin/python: No module named ipykernel_launcher...有关更多详细信息，请查看 Jupyter <a href='command:jupyter.viewOutput'>log</a>。"
     ]
    }
   ],
   "source": []
  },
  {
   "cell_type": "code",
   "execution_count": null,
   "metadata": {},
   "outputs": [
    {
     "ename": "",
     "evalue": "",
     "output_type": "error",
     "traceback": [
      "\u001b[1;31m内核已终止。错误: /root/miniconda3/bin/python: No module named ipykernel_launcher...有关更多详细信息，请查看 Jupyter <a href='command:jupyter.viewOutput'>log</a>。"
     ]
    }
   ],
   "source": [
    "# def set_keras_backend(backend):\n",
    "\n",
    "#     if K.backend() != backend:\n",
    "#         os.environ['KERAS_BACKEND'] = backend\n",
    "#         reload(K)\n",
    "#         assert K.backend() == backend\n",
    "\n",
    "# set_keras_backend(\"theano\")\n",
    "K.set_image_data_format('channels_first')\n",
    "print(K.backend(), K.image_data_format())"
   ]
  },
  {
   "cell_type": "markdown",
   "metadata": {},
   "source": [
    "### Define Parameters"
   ]
  },
  {
   "cell_type": "code",
   "execution_count": null,
   "metadata": {
    "collapsed": true
   },
   "outputs": [
    {
     "ename": "",
     "evalue": "",
     "output_type": "error",
     "traceback": [
      "\u001b[1;31m内核已终止。错误: /root/miniconda3/bin/python: No module named ipykernel_launcher...有关更多详细信息，请查看 Jupyter <a href='command:jupyter.viewOutput'>log</a>。"
     ]
    }
   ],
   "source": [
    "batch_size = 128 #128\n",
    "samples_per_epoch = 10\n",
    "num_classes = 5\n",
    "epochs = 40\n",
    "class_names = [\"voip\", \"video\", \"file transfer\", \"chat\", \"browsing\"]\n",
    "\n",
    "# input hist dimensions\n",
    "height, width = 1500, 1500\n",
    "input_shape = (1, height, width)\n",
    "MODEL_NAME = \"overlap_multiclass_reg_non_bn\"\n",
    "PATH_PREFIX = \"D:/TS/Internet Traffic Classification/datasets/overlap_multiclass_reg/overlap_multiclass_\""
   ]
  },
  {
   "cell_type": "markdown",
   "metadata": {},
   "source": [
    "### Import Train and Validation Data"
   ]
  },
  {
   "cell_type": "code",
   "execution_count": null,
   "metadata": {},
   "outputs": [
    {
     "ename": "",
     "evalue": "",
     "output_type": "error",
     "traceback": [
      "\u001b[1;31m内核已终止。错误: /root/miniconda3/bin/python: No module named ipykernel_launcher...有关更多详细信息，请查看 Jupyter <a href='command:jupyter.viewOutput'>log</a>。"
     ]
    }
   ],
   "source": [
    "x_train = np.load(PATH_PREFIX + \"reg_x_train.npy\")\n",
    "y_train_true = np.load(PATH_PREFIX + \"reg_y_train.npy\")\n",
    "x_val = np.load(PATH_PREFIX + \"reg_x_val.npy\")\n",
    "y_val_true = np.load(PATH_PREFIX + \"reg_y_val.npy\")\n",
    "\n",
    "print(x_train.shape, y_train_true.shape)\n",
    "print(x_val.shape, y_val_true.shape)"
   ]
  },
  {
   "cell_type": "markdown",
   "metadata": {},
   "source": [
    "### Shuffle Data"
   ]
  },
  {
   "cell_type": "code",
   "execution_count": null,
   "metadata": {},
   "outputs": [
    {
     "ename": "",
     "evalue": "",
     "output_type": "error",
     "traceback": [
      "\u001b[1;31m内核已终止。错误: /root/miniconda3/bin/python: No module named ipykernel_launcher...有关更多详细信息，请查看 Jupyter <a href='command:jupyter.viewOutput'>log</a>。"
     ]
    }
   ],
   "source": [
    "def shuffle_data(x, y):\n",
    "    s = np.arange(x.shape[0])\n",
    "    np.random.shuffle(s)\n",
    "    x = x[s]\n",
    "    y = y[s]\n",
    "    print (x.shape, y.shape)\n",
    "    return x, y\n",
    "\n",
    "x_train, y_train_true = shuffle_data(x_train, y_train_true)\n",
    "\n",
    "print(y_train_true[0:10])"
   ]
  },
  {
   "cell_type": "markdown",
   "metadata": {},
   "source": [
    "### convert class vectors to binary class matrices"
   ]
  },
  {
   "cell_type": "code",
   "execution_count": null,
   "metadata": {},
   "outputs": [
    {
     "ename": "",
     "evalue": "",
     "output_type": "error",
     "traceback": [
      "\u001b[1;31m内核已终止。错误: /root/miniconda3/bin/python: No module named ipykernel_launcher...有关更多详细信息，请查看 Jupyter <a href='command:jupyter.viewOutput'>log</a>。"
     ]
    }
   ],
   "source": [
    "y_train = np_utils.to_categorical(y_train_true, num_classes)\n",
    "y_val = np_utils.to_categorical(y_val_true, num_classes)\n",
    "print(y_train[0:10])\n",
    "print (y_val[0:10])\n",
    "print(y_train.shape, y_val.shape)"
   ]
  },
  {
   "cell_type": "markdown",
   "metadata": {},
   "source": [
    "### Define and Compile model"
   ]
  },
  {
   "cell_type": "code",
   "execution_count": null,
   "metadata": {},
   "outputs": [
    {
     "ename": "",
     "evalue": "",
     "output_type": "error",
     "traceback": [
      "\u001b[1;31m内核已终止。错误: /root/miniconda3/bin/python: No module named ipykernel_launcher...有关更多详细信息，请查看 Jupyter <a href='command:jupyter.viewOutput'>log</a>。"
     ]
    }
   ],
   "source": [
    "def precision(y_true, y_pred):\n",
    "    \"\"\"Precision metric.\n",
    "\n",
    "    Only computes a batch-wise average of precision.\n",
    "\n",
    "    Computes the precision, a metric for multi-label classification of\n",
    "    how many selected items are relevant.\n",
    "    \"\"\"\n",
    "    true_positives = K.sum(K.round(K.clip(y_true * y_pred, 0, 1)))\n",
    "    predicted_positives = K.sum(K.round(K.clip(y_pred, 0, 1)))\n",
    "    precision = true_positives / (predicted_positives + K.epsilon())\n",
    "    return precision\n",
    "\n",
    "def recall(y_true, y_pred):\n",
    "    \"\"\"Recall metric.\n",
    "\n",
    "    Only computes a batch-wise average of recall.\n",
    "\n",
    "    Computes the recall, a metric for multi-label classification of\n",
    "    how many relevant items are selected.\n",
    "    \"\"\"\n",
    "    true_positives = K.sum(K.round(K.clip(y_true * y_pred, 0, 1)))\n",
    "    possible_positives = K.sum(K.round(K.clip(y_true, 0, 1)))\n",
    "    recall = true_positives / (possible_positives + K.epsilon())\n",
    "    return recall\n",
    "\n",
    "def f1_score(y_true, y_pred):\n",
    "    prec = precision(y_true, y_pred)\n",
    "    rec = recall(y_true, y_pred)\n",
    "    return 2*((prec*rec)/(prec+rec))\n",
    "\n",
    "def top_2_categorical_accuracy(y_true, y_pred):\n",
    "    return top_k_categorical_accuracy(y_true, y_pred, k=2) \n",
    "\n",
    "from keras.layers.core import Activation\n",
    "\n",
    "model = Sequential()\n",
    "# model.add(BatchNormalization(input_shape=input_shape, axis=-1, momentum=0.99, epsilon=0.001)) ############################\n",
    "model.add(Conv2D(10, kernel_size=(10, 10),strides=5,padding=\"same\", input_shape=input_shape))\n",
    "convout1 = Activation('relu')\n",
    "model.add(convout1)\n",
    "print(model.output_shape)\n",
    "model.add(MaxPooling2D(pool_size=(2, 2)))\n",
    "print(model.output_shape)\n",
    "model.add(Conv2D(20, (10, 10),strides=5,padding=\"same\"))  #################################################\n",
    "convout2 = Activation('relu')\n",
    "model.add(convout2)\n",
    "print(model.output_shape)\n",
    "model.add(Dropout(0.25))\n",
    "model.add(MaxPooling2D(pool_size=(2, 2)))\n",
    "print(model.output_shape)\n",
    "model.add(Flatten())\n",
    "print(model.output_shape)\n",
    "model.add(Dense(64, activation='relu'))\n",
    "print(model.output_shape)\n",
    "model.add(Dropout(0.5))\n",
    "print(model.output_shape)\n",
    "model.add(Dense(num_classes, activation='softmax'))\n",
    "print(model.output_shape)\n",
    "\n",
    "model.compile(loss='categorical_crossentropy', optimizer='adam', metrics=['accuracy', top_2_categorical_accuracy, f1_score, precision, recall])"
   ]
  },
  {
   "cell_type": "markdown",
   "metadata": {},
   "source": [
    "### Define nice_imshow and make_moasic functions"
   ]
  },
  {
   "cell_type": "code",
   "execution_count": null,
   "metadata": {
    "collapsed": true
   },
   "outputs": [
    {
     "ename": "",
     "evalue": "",
     "output_type": "error",
     "traceback": [
      "\u001b[1;31m内核已终止。错误: /root/miniconda3/bin/python: No module named ipykernel_launcher...有关更多详细信息，请查看 Jupyter <a href='command:jupyter.viewOutput'>log</a>。"
     ]
    }
   ],
   "source": [
    "import pylab as pl\n",
    "import matplotlib.cm as cm\n",
    "from mpl_toolkits.axes_grid1 import make_axes_locatable\n",
    "import numpy.ma as ma\n",
    "\n",
    "def nice_imshow(ax, data, vmin=None, vmax=None, cmap=None, bar=True):\n",
    "    \"\"\"Wrapper around pl.imshow\"\"\"\n",
    "    if cmap is None:\n",
    "        cmap = cm.jet\n",
    "    if vmin is None:\n",
    "        vmin = data.min()\n",
    "    if vmax is None:\n",
    "        vmax = data.max()\n",
    "    divider = make_axes_locatable(ax)\n",
    "    im = ax.imshow(data, vmin=vmin, vmax=vmax, interpolation='nearest', cmap=cmap,origin='lower')\n",
    "    if bar:\n",
    "        cax = divider.append_axes(\"right\", size=\"5%\", pad=0.05)\n",
    "        pl.colorbar(im, cax=cax)\n",
    "\n",
    "def plotNNFilter2(data, nrows, ncols, layer_name, cmap=None, bar=True):\n",
    "    \"\"\"Wrapper around pl.subplot with color bar\"\"\"\n",
    "    if cmap is None:\n",
    "        cmap = \"gray\"\n",
    "    \n",
    "    fig, axes = pl.subplots(nrows, ncols,figsize=(5*ncols, 4*nrows))\n",
    "    for i, ax in enumerate(axes.flat):\n",
    "        im = ax.imshow(data[:,:,i], interpolation=\"nearest\", cmap=cmap)\n",
    "        ax.set_yticklabels([])\n",
    "        ax.set_xticklabels([])\n",
    "        ax.invert_yaxis()\n",
    "\n",
    "    fig.subplots_adjust(wspace=0.025, hspace=0.05)\n",
    "    if bar:\n",
    "        fig.colorbar(im, ax=axes.ravel().tolist())\n",
    "    \n",
    "    pl.savefig(MODEL_NAME +  \"_plotNNFilter2_\" + layer_name, bbox_inches='tight', pad_inches=1)\n",
    "    pl.show()\n",
    "\n",
    "def plotNNFilter(data, nrows, ncols, layer_name, cmap=None, bar=True):\n",
    "    \"\"\"Wrapper around pl.subplot\"\"\"\n",
    "    if cmap is None:\n",
    "        cmap = \"gray\"\n",
    "    \n",
    "    pl.figure(figsize=(3*ncols, 3*nrows))\n",
    "    \n",
    "    for i in range(nrows*ncols):\n",
    "        pl.subplot(nrows, ncols, i+1)\n",
    "        pl.imshow(data[:,:,i], interpolation=\"nearest\", cmap=cmap)\n",
    "        pl.xticks([])\n",
    "        pl.yticks([])\n",
    "        pl.gca().invert_yaxis()\n",
    "    pl.subplots_adjust(wspace=0.025, hspace=0.05)\n",
    "    pl.savefig(MODEL_NAME +  \"_plotNNFilter_\" + layer_name, bbox_inches='tight', pad_inches=1)\n",
    "    pl.show()\n",
    "        \n",
    "def make_mosaic(imgs, nrows, ncols, border=1):\n",
    "    \"\"\"\n",
    "    Given a set of images with all the same shape, makes a\n",
    "    mosaic with nrows and ncols\n",
    "    \"\"\"\n",
    "    nimgs = imgs.shape[2]\n",
    "    imshape = imgs.shape[0:2]\n",
    "    \n",
    "    mosaic = ma.masked_all((nrows * imshape[0] + (nrows - 1) * border,\n",
    "                            ncols * imshape[1] + (ncols - 1) * border),\n",
    "                            dtype=np.float32)\n",
    "    \n",
    "    paddedh = imshape[0] + border\n",
    "    paddedw = imshape[1] + border\n",
    "    for i in range(nimgs):\n",
    "        row = int(np.floor(i / ncols))\n",
    "        col = i % ncols\n",
    "        \n",
    "        mosaic[row * paddedh:row * paddedh + imshape[0],\n",
    "               col * paddedw:col * paddedw + imshape[1]] = imgs[:,:,i]\n",
    "    return mosaic\n",
    "\n",
    "def mosaic_imshow(imgs, nrows, ncols, cmap=None, border=1, layer_name=\"convout\"):\n",
    "    pl.figure(figsize=(3*ncols, 3*nrows))\n",
    "#     pl.suptitle('convout2')\n",
    "    nice_imshow(pl.gca(), make_mosaic(imgs, nrows, ncols, border=border), cmap=cmap)\n",
    "    pl.savefig(MODEL_NAME +  \"_mosaic_imshow_\" + layer_name, bbox_inches='tight', pad_inches=1)\n",
    "    pl.show()\n",
    "\n",
    "# pl.imshow(make_mosaic(np.random.random((10, 10, 9)), 3, 3, border=1))\n",
    "# pl.show()"
   ]
  },
  {
   "cell_type": "code",
   "execution_count": null,
   "metadata": {},
   "outputs": [
    {
     "ename": "",
     "evalue": "",
     "output_type": "error",
     "traceback": [
      "\u001b[1;31m内核已终止。错误: /root/miniconda3/bin/python: No module named ipykernel_launcher...有关更多详细信息，请查看 Jupyter <a href='command:jupyter.viewOutput'>log</a>。"
     ]
    }
   ],
   "source": [
    "# Visualize the first layer of convolutions on an input image\n",
    "i = 35\n",
    "X = x_train[i][0]\n",
    "print(X)\n",
    "print(y_train_true[i])\n",
    "pl.figure(figsize=(15, 15))\n",
    "pl.title('input')\n",
    "nice_imshow(pl.gca(), np.squeeze(X), vmin=0, vmax=1, cmap=cm.binary)\n",
    "pl.savefig(MODEL_NAME +  \"_input\", bbox_inches='tight', pad_inches=1)\n",
    "pl.show()\n",
    "\n",
    "# Visualize convolution result (after activation)\n",
    "def get_layer_output(layer, input_img, layer_name):\n",
    "    convout_f = K.function(model.inputs, [layer.output])\n",
    "    C = convout_f([input_img])\n",
    "    C = np.squeeze(C)\n",
    "    print(layer_name + \" output shape : \", C.shape)\n",
    "    C = np.transpose(C)\n",
    "    C = np.swapaxes(C,0,1)\n",
    "    print(layer_name + \" output shape : \", C.shape)\n",
    "    return C\n",
    "    \n",
    "\n",
    "C1 = get_layer_output(convout1, x_train[i:i+1], layer_name=\"convout1_before\")\n",
    "mosaic_imshow(C1, 2, 5, cmap=cm.binary, border=2, layer_name=\"convout1_before\")\n",
    "plotNNFilter(C1, 2, 5, cmap=cm.binary, layer_name=\"convout1_before\")\n",
    "plotNNFilter2(C1, 2, 5, cmap=cm.binary, layer_name=\"convout1_before\")\n",
    "\n",
    "C2 = get_layer_output(convout2, x_train[i:i+1], layer_name=\"convout2_before\")\n",
    "mosaic_imshow(C2, 4, 5, cmap=cm.binary, border=2, layer_name=\"convout2_before\")\n",
    "plotNNFilter(C2, 4, 5, cmap=cm.binary, layer_name=\"convout2_before\")\n",
    "plotNNFilter2(C2, 4, 5, cmap=cm.binary, layer_name=\"convout2_before\")"
   ]
  },
  {
   "cell_type": "code",
   "execution_count": null,
   "metadata": {},
   "outputs": [
    {
     "ename": "",
     "evalue": "",
     "output_type": "error",
     "traceback": [
      "\u001b[1;31m内核已终止。错误: /root/miniconda3/bin/python: No module named ipykernel_launcher...有关更多详细信息，请查看 Jupyter <a href='command:jupyter.viewOutput'>log</a>。"
     ]
    }
   ],
   "source": [
    "# Visualize weights\n",
    "W1 = model.layers[0].get_weights()[0]\n",
    "W1 = np.squeeze(W1)\n",
    "# W1 = np.asarray(W1)\n",
    "print(\"W1 shape : \", W1.shape)\n",
    "\n",
    "mosaic_imshow(W1, 2, 5, cmap=cm.binary, border=1, layer_name=\"conv1_weights_before\")\n",
    "plotNNFilter(W1, 2, 5, cmap=cm.binary, layer_name=\"conv1_weights_before\")\n",
    "plotNNFilter2(W1, 2, 5, cmap=cm.binary, layer_name=\"conv1_weights_before\")\n",
    "\n",
    "# Visualize weights\n",
    "W2 = model.layers[3].get_weights()[0][:,:,0,:]\n",
    "W2 = np.asarray(W2)\n",
    "print(\"W2 shape : \", W2.shape)\n",
    "\n",
    "mosaic_imshow(W2, 4, 5, cmap=cm.binary, border=1, layer_name=\"conv2_weights_before\")\n",
    "plotNNFilter(W2, 4, 5, cmap=cm.binary, layer_name=\"conv2_weights_before\")\n",
    "plotNNFilter2(W2, 4, 5, cmap=cm.binary, layer_name=\"conv2_weights_before\")\n"
   ]
  },
  {
   "cell_type": "markdown",
   "metadata": {},
   "source": [
    "### Fit model on training data"
   ]
  },
  {
   "cell_type": "code",
   "execution_count": null,
   "metadata": {},
   "outputs": [
    {
     "ename": "",
     "evalue": "",
     "output_type": "error",
     "traceback": [
      "\u001b[1;31m内核已终止。错误: /root/miniconda3/bin/python: No module named ipykernel_launcher...有关更多详细信息，请查看 Jupyter <a href='command:jupyter.viewOutput'>log</a>。"
     ]
    }
   ],
   "source": [
    "tensorboard = TensorBoard(log_dir='./Graph', histogram_freq=1, write_grads=True, write_graph=True,\n",
    "                          write_images=True, batch_size=batch_size)\n",
    "checkpointer_loss = ModelCheckpoint(filepath= MODEL_NAME + '_loss.hdf5', verbose=1, save_best_only=True, save_weights_only=True)\n",
    "checkpointer_acc = ModelCheckpoint(monitor='val_acc', filepath= MODEL_NAME + '_acc.hdf5', verbose=1, save_best_only=True, save_weights_only=True)\n",
    "tensorboard.set_model(model)\n",
    "\n",
    "def generator(features, labels, batch_size):\n",
    "    index = 0\n",
    "    while True:\n",
    "        index += batch_size\n",
    "        if index >= len(features):\n",
    "            batch_features = np.append(features[index-batch_size:len(features)], features[0:index-len(features)], axis=0)\n",
    "            batch_labels = np.append(labels[index-batch_size:len(features)], labels[0:index-len(features)], axis=0)\n",
    "            index -= len(features)\n",
    "            yield batch_features, batch_labels\n",
    "        else:\n",
    "            yield features[index-batch_size:index], labels[index-batch_size:index]\n",
    "\n",
    "history = model.fit_generator(generator(x_train, y_train, batch_size),\n",
    "          epochs=epochs,\n",
    "          samples_per_epoch=samples_per_epoch,\n",
    "          verbose=1,\n",
    "          callbacks=[tensorboard,checkpointer_loss,checkpointer_acc],\n",
    "          validation_data=(x_val, y_val))"
   ]
  },
  {
   "cell_type": "markdown",
   "metadata": {},
   "source": [
    "### Plot history accuracy"
   ]
  },
  {
   "cell_type": "code",
   "execution_count": null,
   "metadata": {},
   "outputs": [
    {
     "ename": "",
     "evalue": "",
     "output_type": "error",
     "traceback": [
      "\u001b[1;31m内核已终止。错误: /root/miniconda3/bin/python: No module named ipykernel_launcher...有关更多详细信息，请查看 Jupyter <a href='command:jupyter.viewOutput'>log</a>。"
     ]
    }
   ],
   "source": [
    "import matplotlib.pyplot as plt\n",
    "import pickle\n",
    "\n",
    "with open(MODEL_NAME +  \"_accuracy.pkl\", 'wb') as output:\n",
    "    pickle.dump(history.history, output, pickle.HIGHEST_PROTOCOL)\n",
    "\n",
    "# list all data in history\n",
    "print(history.history.keys())\n",
    "x = np.asarray(range(1,epochs + 1))\n",
    "# summarize history for accuracy\n",
    "plt.figure()\n",
    "plt.plot(x, history.history['acc'])\n",
    "plt.plot(x, history.history['val_acc'])\n",
    "plt.title('model accuracy')\n",
    "plt.ylabel('accuracy')\n",
    "plt.xlabel('epoch')\n",
    "plt.legend(['train', 'val'], loc='upper left')\n",
    "plt.savefig(MODEL_NAME +  \" accuracy history\", bbox_inches='tight', pad_inches=1)\n",
    "plt.show()"
   ]
  },
  {
   "cell_type": "markdown",
   "metadata": {},
   "source": [
    "### Plot Confusion Matrix"
   ]
  },
  {
   "cell_type": "code",
   "execution_count": null,
   "metadata": {},
   "outputs": [
    {
     "ename": "",
     "evalue": "",
     "output_type": "error",
     "traceback": [
      "\u001b[1;31m内核已终止。错误: /root/miniconda3/bin/python: No module named ipykernel_launcher...有关更多详细信息，请查看 Jupyter <a href='command:jupyter.viewOutput'>log</a>。"
     ]
    }
   ],
   "source": [
    "y_val_prediction = model.predict_classes(x_val, verbose=1)"
   ]
  },
  {
   "cell_type": "code",
   "execution_count": null,
   "metadata": {},
   "outputs": [
    {
     "ename": "",
     "evalue": "",
     "output_type": "error",
     "traceback": [
      "\u001b[1;31m内核已终止。错误: /root/miniconda3/bin/python: No module named ipykernel_launcher...有关更多详细信息，请查看 Jupyter <a href='command:jupyter.viewOutput'>log</a>。"
     ]
    }
   ],
   "source": [
    "print(y_val_prediction[:10])"
   ]
  },
  {
   "cell_type": "code",
   "execution_count": null,
   "metadata": {},
   "outputs": [
    {
     "ename": "",
     "evalue": "",
     "output_type": "error",
     "traceback": [
      "\u001b[1;31m内核已终止。错误: /root/miniconda3/bin/python: No module named ipykernel_launcher...有关更多详细信息，请查看 Jupyter <a href='command:jupyter.viewOutput'>log</a>。"
     ]
    }
   ],
   "source": [
    "from sklearn.metrics import confusion_matrix\n",
    "import itertools\n",
    "\n",
    "def plot_confusion_matrix(cm, classes,\n",
    "                          normalize=False,\n",
    "                          title='Confusion matrix',\n",
    "                          fname='Confusion matrix',\n",
    "                          cmap=plt.cm.Blues):\n",
    "    \"\"\"\n",
    "    This function prints and plots the confusion matrix.\n",
    "    Normalization can be applied by setting `normalize=True`.\n",
    "    \"\"\"\n",
    "    if normalize:\n",
    "        cm = cm.astype('float') / cm.sum(axis=1)[:, np.newaxis]\n",
    "        print(\"Normalized confusion matrix\")\n",
    "    else:\n",
    "        print('Confusion matrix, without normalization')\n",
    "\n",
    "    print(cm)\n",
    "\n",
    "    plt.imshow(cm, interpolation='nearest', cmap=cmap)\n",
    "    plt.title(title)\n",
    "    plt.colorbar()\n",
    "    tick_marks = np.arange(len(classes))\n",
    "    plt.xticks(tick_marks, classes, rotation=45)\n",
    "    plt.yticks(tick_marks, classes)\n",
    "\n",
    "    fmt = '.1f' if normalize else 'd'\n",
    "    thresh = cm.max() / 2.\n",
    "    for i, j in itertools.product(range(cm.shape[0]), range(cm.shape[1])):\n",
    "        if normalize:\n",
    "            plt.text(j, i, format(cm[i, j]*100, fmt) + '%',\n",
    "                 horizontalalignment=\"center\",\n",
    "                 color=\"white\" if cm[i, j] > thresh else \"black\")\n",
    "        else:\n",
    "            plt.text(j, i, format(cm[i, j], fmt),\n",
    "                 horizontalalignment=\"center\",\n",
    "                 color=\"white\" if cm[i, j] > thresh else \"black\")    \n",
    "        \n",
    "    plt.tight_layout()\n",
    "    plt.ylabel('True label')\n",
    "    plt.xlabel('Predicted label')\n",
    "    plt.savefig(fname, bbox_inches='tight', pad_inches=1)\n",
    "\n",
    "# Compute confusion matrix\n",
    "cnf_matrix = confusion_matrix(y_val_true, y_val_prediction)\n",
    "np.set_printoptions(precision=2)\n",
    "\n",
    "# Plot non-normalized confusion matrix\n",
    "plt.figure()\n",
    "plot_confusion_matrix(cnf_matrix, classes=class_names,\n",
    "                      title='Confusion matrix, without normalization',\n",
    "                      fname=MODEL_NAME + \"_\" + 'Confusion_matrix_without_normalization')\n",
    "\n",
    "# Plot normalized confusion matrix\n",
    "plt.figure()\n",
    "plot_confusion_matrix(cnf_matrix, classes=class_names, normalize=True,\n",
    "                      title='Normalized confusion matrix',\n",
    "                      fname=MODEL_NAME + \"_\" + 'Normalized_confusion_matrix')\n",
    "\n",
    "plt.show()"
   ]
  },
  {
   "cell_type": "code",
   "execution_count": null,
   "metadata": {},
   "outputs": [
    {
     "ename": "",
     "evalue": "",
     "output_type": "error",
     "traceback": [
      "\u001b[1;31m内核已终止。错误: /root/miniconda3/bin/python: No module named ipykernel_launcher...有关更多详细信息，请查看 Jupyter <a href='command:jupyter.viewOutput'>log</a>。"
     ]
    }
   ],
   "source": [
    "def stats(y_true, y_pred):\n",
    "    correct = sum([1 for i,pred in enumerate(y_pred) if y_true[i][pred]==1])\n",
    "    print(y_true.shape[0], correct, correct*1.0/len(y_true))\n",
    "    \n",
    "    for class_ind in range(y_true.shape[1]):\n",
    "        total_ind = len([1 for val in y_true if val[class_ind]==1])\n",
    "        correct_ind = sum([1 for i,pred in enumerate(y_pred) if (pred == class_ind and y_true[i][pred]==1)])\n",
    "        print(class_ind, total_ind, correct_ind, correct_ind*1.0/total_ind)\n",
    "\n",
    "stats(y_val, y_val_prediction)\n",
    "# stats(y_test_vpn, y_test_vpn_prediction)\n",
    "# stats(y_test_tor, y_test_tor_prediction)\n",
    "# correct_1 = sum([1 for i,pred in enumerate(y_test_prediction) if (pred == 1 and y_test[i][pred]==1)])\n",
    "# print correct_1, correct_1*1.0/len([1 for val in y_test if val[1]==1])"
   ]
  },
  {
   "cell_type": "code",
   "execution_count": null,
   "metadata": {},
   "outputs": [
    {
     "ename": "",
     "evalue": "",
     "output_type": "error",
     "traceback": [
      "\u001b[1;31m内核已终止。错误: /root/miniconda3/bin/python: No module named ipykernel_launcher...有关更多详细信息，请查看 Jupyter <a href='command:jupyter.viewOutput'>log</a>。"
     ]
    }
   ],
   "source": [
    "from sklearn.metrics import classification_report\n",
    "print(classification_report(y_val_true, y_val_prediction))"
   ]
  },
  {
   "cell_type": "code",
   "execution_count": null,
   "metadata": {
    "scrolled": false
   },
   "outputs": [
    {
     "ename": "",
     "evalue": "",
     "output_type": "error",
     "traceback": [
      "\u001b[1;31m内核已终止。错误: /root/miniconda3/bin/python: No module named ipykernel_launcher...有关更多详细信息，请查看 Jupyter <a href='command:jupyter.viewOutput'>log</a>。"
     ]
    }
   ],
   "source": [
    "# Visualize the first layer of convolutions on an input image\n",
    "X = x_train[i][0]\n",
    "print(X)\n",
    "print(y_train_true[i])\n",
    "pl.figure(figsize=(15, 15))\n",
    "nice_imshow(pl.gca(), np.squeeze(X), vmin=0, vmax=1, cmap=cm.binary)\n",
    "pl.savefig(MODEL_NAME +  \"_input_\" + str(int(y_train_true[i])), bbox_inches='tight', pad_inches=1)\n",
    "pl.show()\n",
    "\n",
    "# Visualize convolution result (after activation)\n",
    "def get_layer_output(layer, input_img, layer_name):\n",
    "    convout_f = K.function(model.inputs, [layer.output])\n",
    "    C = convout_f([input_img])\n",
    "    C = np.squeeze(C)\n",
    "    print(layer_name + \" output shape : \", C.shape)\n",
    "    C = np.transpose(C)\n",
    "    C = np.swapaxes(C,0,1)\n",
    "    print(layer_name + \" output shape : \", C.shape)\n",
    "    return C\n",
    "\n",
    "\n",
    "C1 = get_layer_output(convout1, x_train[i:i+1], layer_name=\"convout1_\" + str(int(y_train_true[i])))\n",
    "mosaic_imshow(C1, 2, 5, cmap=cm.binary, border=2, layer_name=\"convout1_\" + str(int(y_train_true[i])))\n",
    "plotNNFilter(C1, 2, 5, cmap=cm.binary, layer_name=\"convout1_\" + str(int(y_train_true[i])))\n",
    "plotNNFilter2(C1, 2, 5, cmap=cm.binary, layer_name=\"convout1_\" + str(int(y_train_true[i])))\n",
    "\n",
    "C2 = get_layer_output(convout2, x_train[i:i+1], layer_name=\"convout2_\" + str(int(y_train_true[i])))\n",
    "mosaic_imshow(C2, 4, 5, cmap=cm.binary, border=2, layer_name=\"convout2_\" + str(int(y_train_true[i])))\n",
    "plotNNFilter(C2, 4, 5, cmap=cm.binary, layer_name=\"convout2_\" + str(int(y_train_true[i])))\n",
    "plotNNFilter2(C2, 4, 5, cmap=cm.binary, layer_name=\"convout2_\" + str(int(y_train_true[i])))"
   ]
  },
  {
   "cell_type": "code",
   "execution_count": null,
   "metadata": {},
   "outputs": [
    {
     "ename": "",
     "evalue": "",
     "output_type": "error",
     "traceback": [
      "\u001b[1;31m内核已终止。错误: /root/miniconda3/bin/python: No module named ipykernel_launcher...有关更多详细信息，请查看 Jupyter <a href='command:jupyter.viewOutput'>log</a>。"
     ]
    }
   ],
   "source": [
    "# Visualize weights\n",
    "W1 = model.layers[0].get_weights()[0]\n",
    "W1 = np.squeeze(W1)\n",
    "# W1 = np.asarray(W1)\n",
    "print(\"W1 shape : \", W1.shape)\n",
    "\n",
    "mosaic_imshow(W1, 2, 5, cmap=cm.binary, border=1, layer_name=\"conv1_weights\")\n",
    "plotNNFilter(W1, 2, 5, cmap=cm.binary, layer_name=\"conv1_weights\")\n",
    "plotNNFilter2(W1, 2, 5, cmap=cm.binary, layer_name=\"conv1_weights\")\n",
    "\n",
    "# Visualize weights\n",
    "W2 = model.layers[3].get_weights()[0][:,:,0,:]\n",
    "W2 = np.asarray(W2)\n",
    "print(\"W2 shape : \", W2.shape)\n",
    "\n",
    "mosaic_imshow(W2, 4, 5, cmap=cm.binary, border=1, layer_name=\"conv2_weights\")\n",
    "plotNNFilter(W2, 4, 5, cmap=cm.binary, layer_name=\"conv2_weights\")\n",
    "plotNNFilter2(W2, 4, 5, cmap=cm.binary, layer_name=\"conv2_weights\")\n"
   ]
  },
  {
   "cell_type": "code",
   "execution_count": null,
   "metadata": {},
   "outputs": [
    {
     "ename": "",
     "evalue": "",
     "output_type": "error",
     "traceback": [
      "\u001b[1;31m内核已终止。错误: /root/miniconda3/bin/python: No module named ipykernel_launcher...有关更多详细信息，请查看 Jupyter <a href='command:jupyter.viewOutput'>log</a>。"
     ]
    }
   ],
   "source": [
    "y_val_true, y_val_prediction\n",
    "\n",
    "for j in range(len(y_val_true)):\n",
    "    if y_val_true[j] == 0 and y_val_prediction[j] == 1:\n",
    "        print(j, sum(sum(sum(x_val[j]))))\n",
    "#         pl.figure(figsize=(10, 10))\n",
    "#         pl.title('input ' + str(j))\n",
    "#         nice_imshow(pl.gca(), np.squeeze(x_val[j]), vmin=0, vmax=1, cmap=cm.binary)\n",
    "#         pl.savefig(MODEL_NAME +  \"_input\", bbox_inches='tight', pad_inches=1)\n",
    "#         pl.show()"
   ]
  },
  {
   "cell_type": "markdown",
   "metadata": {},
   "source": [
    "### Import test data"
   ]
  },
  {
   "cell_type": "code",
   "execution_count": null,
   "metadata": {},
   "outputs": [
    {
     "ename": "",
     "evalue": "",
     "output_type": "error",
     "traceback": [
      "\u001b[1;31m内核已终止。错误: /root/miniconda3/bin/python: No module named ipykernel_launcher...有关更多详细信息，请查看 Jupyter <a href='command:jupyter.viewOutput'>log</a>。"
     ]
    }
   ],
   "source": [
    "x_test_vpn = np.load(PATH_PREFIX + \"vpn_x_test.npy\")\n",
    "y_test_vpn_true = np.load(PATH_PREFIX + \"vpn_y_test.npy\")\n",
    "x_test_tor = np.load(PATH_PREFIX + \"tor_x_test.npy\")\n",
    "y_test_tor_true = np.load(PATH_PREFIX + \"tor_y_test.npy\")\n",
    "\n",
    "y_test_vpn = np_utils.to_categorical(y_test_vpn_true, num_classes)\n",
    "y_test_tor = np_utils.to_categorical(y_test_tor_true, num_classes)\n",
    "\n",
    "print(x_test_vpn.shape, y_test_vpn.shape)\n",
    "print(x_test_tor.shape, y_test_tor.shape)"
   ]
  },
  {
   "cell_type": "markdown",
   "metadata": {},
   "source": [
    "### Evaluate model on test data"
   ]
  },
  {
   "cell_type": "code",
   "execution_count": null,
   "metadata": {},
   "outputs": [
    {
     "ename": "",
     "evalue": "",
     "output_type": "error",
     "traceback": [
      "\u001b[1;31m内核已终止。错误: /root/miniconda3/bin/python: No module named ipykernel_launcher...有关更多详细信息，请查看 Jupyter <a href='command:jupyter.viewOutput'>log</a>。"
     ]
    }
   ],
   "source": [
    "# model.load_weights(MODEL_NAME + '.hdf5')\n",
    "\n",
    "score_val = model.evaluate(x_val, y_val, verbose=1)\n",
    "print('Validation loss:', score_val[0])\n",
    "print('Validaion accuracy:', score_val[1])\n",
    "print('Validaion top_2_categorical_accuracy:', score_val[2])\n",
    "\n",
    "score_vpn = model.evaluate(x_test_vpn, y_test_vpn, verbose=1)\n",
    "print('VPN_Test loss:', score_vpn[0])\n",
    "print('VPN_Test accuracy:', score_vpn[1])\n",
    "print('VPN_Test top_2_categorical_accuracy:', score_vpn[2])\n",
    "\n",
    "score_tor = model.evaluate(x_test_tor, y_test_tor, verbose=1)\n",
    "print('TOR_Test loss:', score_tor[0])\n",
    "print('TOR_Test accuracy:', score_tor[1])\n",
    "print('TOR_Test top_2_categorical_accuracy:', score_tor[2])"
   ]
  },
  {
   "cell_type": "code",
   "execution_count": null,
   "metadata": {},
   "outputs": [
    {
     "ename": "",
     "evalue": "",
     "output_type": "error",
     "traceback": [
      "\u001b[1;31m内核已终止。错误: /root/miniconda3/bin/python: No module named ipykernel_launcher...有关更多详细信息，请查看 Jupyter <a href='command:jupyter.viewOutput'>log</a>。"
     ]
    }
   ],
   "source": [
    "y_test_vpn_prediction = model.predict_classes(x_test_vpn, verbose=1)\n",
    "y_test_tor_prediction = model.predict_classes(x_test_tor, verbose=1)"
   ]
  },
  {
   "cell_type": "code",
   "execution_count": null,
   "metadata": {},
   "outputs": [
    {
     "ename": "",
     "evalue": "",
     "output_type": "error",
     "traceback": [
      "\u001b[1;31m内核已终止。错误: /root/miniconda3/bin/python: No module named ipykernel_launcher...有关更多详细信息，请查看 Jupyter <a href='command:jupyter.viewOutput'>log</a>。"
     ]
    }
   ],
   "source": [
    "cnf_matrix_val = confusion_matrix(y_val_true, y_val_prediction)\n",
    "cnf_matrix_vpn = confusion_matrix(y_test_vpn_true, y_test_vpn_prediction)\n",
    "cnf_matrix_tor = confusion_matrix(y_test_tor_true, y_test_tor_prediction)\n",
    "\n",
    "# Plot normalized confusion matrix\n",
    "plt.figure()\n",
    "plot_confusion_matrix(cnf_matrix_val, classes=class_names, normalize=True,\n",
    "                      title='Normalized confusion matrix for regular validation set',\n",
    "                      fname=MODEL_NAME + \"_val_\" + 'Normalized_confusion_matrix')\n",
    "\n",
    "# Plot normalized confusion matrix\n",
    "plt.figure()\n",
    "plot_confusion_matrix(cnf_matrix_vpn, classes=class_names, normalize=True,\n",
    "                      title='Normalized confusion matrix for vpn test set',\n",
    "                      fname=MODEL_NAME + \"_test_vpn_\" + 'Normalized_confusion_matrix')\n",
    "\n",
    "# Plot normalized confusion matrix\n",
    "plt.figure()\n",
    "plot_confusion_matrix(cnf_matrix_tor, classes=class_names, normalize=True,\n",
    "                      title='Normalized confusion matrix for tor test set',\n",
    "                      fname=MODEL_NAME + \"_test_tor_\" + 'Normalized_confusion_matrix')\n",
    "\n",
    "plt.show()"
   ]
  },
  {
   "cell_type": "markdown",
   "metadata": {},
   "source": [
    "### Save Model and weights"
   ]
  },
  {
   "cell_type": "code",
   "execution_count": null,
   "metadata": {},
   "outputs": [
    {
     "ename": "",
     "evalue": "",
     "output_type": "error",
     "traceback": [
      "\u001b[1;31m内核已终止。错误: /root/miniconda3/bin/python: No module named ipykernel_launcher...有关更多详细信息，请查看 Jupyter <a href='command:jupyter.viewOutput'>log</a>。"
     ]
    }
   ],
   "source": [
    "model_json = model.to_json()\n",
    "with open(MODEL_NAME + '.json', \"w\") as json_file:\n",
    "    json_file.write(model_json)\n",
    "model.save_weights(MODEL_NAME + '.h5')\n",
    "print(\"Save Model\")"
   ]
  }
 ],
 "metadata": {
  "kernelspec": {
   "display_name": "Python 3 (ipykernel)",
   "language": "python",
   "name": "python3"
  }
 },
 "nbformat": 4,
 "nbformat_minor": 1
}
